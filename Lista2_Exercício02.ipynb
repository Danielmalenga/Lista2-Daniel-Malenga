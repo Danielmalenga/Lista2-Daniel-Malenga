{
 "cells": [
  {
   "cell_type": "code",
   "execution_count": null,
   "id": "ffab3c1a",
   "metadata": {},
   "outputs": [],
   "source": []
  },
  {
   "cell_type": "code",
   "execution_count": 9,
   "id": "3363fb9f",
   "metadata": {},
   "outputs": [
    {
     "name": "stdout",
     "output_type": "stream",
     "text": [
      "A probabilidade de obter pelo menos um dado com o valor seis é de:  59.99 %\n"
     ]
    }
   ],
   "source": [
    "\n",
    "import random\n",
    "import numpy as np\n",
    "\n",
    "N = 10000\n",
    "\n",
    "dado_01 = np.random.randint(1, 7, N)\n",
    "dado_02 = np.random.randint(1, 7, N)\n",
    "dado_03 = np.random.randint(1, 7, N)\n",
    "dado_04 = np.random.randint(1, 7, N)\n",
    "dado_05 = np.random.randint(1, 7, N)\n",
    " \n",
    "quant = 0\n",
    " \n",
    "for j in range(0, N):\n",
    "    cont_00 = 0\n",
    "    cont_01 = 0\n",
    "    cont_02 = 0\n",
    "    cont_03 = 0\n",
    "    cont_04 = 0\n",
    "    cont_05 = 0\n",
    " \n",
    "    if dado_01[j] == 6:\n",
    "        cont_01 += 1\n",
    "    if dado_02[j] == 6:\n",
    "        cont_02 += 1\n",
    "    if dado_03[j] == 6:\n",
    "        cont_03 += 1\n",
    "    if dado_04[j] == 6:\n",
    "        cont_04 += 1\n",
    "    if dado_05[j] == 6:\n",
    "        cont_05 += 1\n",
    " \n",
    "    cont_00 = cont_01 + cont_02 + cont_03 + cont_04 + cont_05\n",
    " \n",
    "    if cont_00 >= 1:\n",
    "        quant += 1\n",
    " \n",
    "prob = quant / N\n",
    "print(\"A probabilidade de obter pelo menos um dado com o valor seis é de: \",prob*100, \"%\")\n"
   ]
  },
  {
   "cell_type": "code",
   "execution_count": null,
   "id": "846eec84",
   "metadata": {},
   "outputs": [],
   "source": []
  }
 ],
 "metadata": {
  "kernelspec": {
   "display_name": "Python 3 (ipykernel)",
   "language": "python",
   "name": "python3"
  },
  "language_info": {
   "codemirror_mode": {
    "name": "ipython",
    "version": 3
   },
   "file_extension": ".py",
   "mimetype": "text/x-python",
   "name": "python",
   "nbconvert_exporter": "python",
   "pygments_lexer": "ipython3",
   "version": "3.11.4"
  }
 },
 "nbformat": 4,
 "nbformat_minor": 5
}
