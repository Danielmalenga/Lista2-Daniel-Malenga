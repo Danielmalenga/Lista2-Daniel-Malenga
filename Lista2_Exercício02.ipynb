{
  "cells": [
    {
      "cell_type": "code",
      "execution_count": 5,
      "id": "ffab3c1a",
      "metadata": {
        "id": "ffab3c1a"
      },
      "outputs": [],
      "source": []
    },
    {
      "cell_type": "markdown",
      "source": [
        "2) Faça um programa para estimar a probabilidade de obter pelo menos um dado com seis ao lançar 5\n",
        "dados."
      ],
      "metadata": {
        "id": "yVpSWGZRe-Im"
      },
      "id": "yVpSWGZRe-Im"
    },
    {
      "cell_type": "code",
      "execution_count": 3,
      "id": "3363fb9f",
      "metadata": {
        "colab": {
          "base_uri": "https://localhost:8080/"
        },
        "id": "3363fb9f",
        "outputId": "572bc72c-ace8-4e6d-e572-aa5f6533c33b"
      },
      "outputs": [
        {
          "output_type": "stream",
          "name": "stdout",
          "text": [
            "A probabilidade de pelo  menos um dado com  valor 6 é igual a:  59.577999999999996 %\n"
          ]
        }
      ],
      "source": [
        "\n",
        "import random\n",
        "import numpy as np\n",
        "\n",
        "# Define o número de de amostra para o lançamentos\n",
        "N = 100000\n",
        "\n",
        "# Gera os valores de lançamentos de cinco dados\n",
        "dado_01 = np.random.randint(1, 7, N)\n",
        "dado_02 = np.random.randint(1, 7, N)\n",
        "dado_03 = np.random.randint(1, 7, N)\n",
        "dado_04 = np.random.randint(1, 7, N)\n",
        "dado_05 = np.random.randint(1, 7, N)\n",
        "\n",
        "# Inicializa uma variável para contar a soma quantidade de eventos\n",
        "soma = 0\n",
        "\n",
        "for j in range(0, N):\n",
        "  # contadores para cada dado lançado\n",
        "    cont_00 = 0\n",
        "    cont_01 = 0\n",
        "    cont_02 = 0\n",
        "    cont_03 = 0\n",
        "    cont_04 = 0\n",
        "    cont_05 = 0\n",
        " # Verifica se o valor do dado é igual a 6\n",
        "    if dado_01[j] == 6:\n",
        "        cont_01 += 1\n",
        "    if dado_02[j] == 6:\n",
        "        cont_02 += 1\n",
        "    if dado_03[j] == 6:\n",
        "        cont_03 += 1\n",
        "    if dado_04[j] == 6:\n",
        "        cont_04 += 1\n",
        "    if dado_05[j] == 6:\n",
        "        cont_05 += 1\n",
        " # soma o valor de dados com resultado igual a  6\n",
        "    cont_00 = cont_01 + cont_02 + cont_03 + cont_04 + cont_05\n",
        "\n",
        "    if cont_00 >= 1:\n",
        "        soma += 1\n",
        " # Calcula a probabilidade\n",
        "prob = soma / N\n",
        "print(\"A probabilidade de pelo  menos um dado com  valor 6 é igual a: \",prob*100, \"%\")\n"
      ]
    },
    {
      "cell_type": "code",
      "execution_count": 6,
      "id": "846eec84",
      "metadata": {
        "id": "846eec84"
      },
      "outputs": [],
      "source": []
    }
  ],
  "metadata": {
    "kernelspec": {
      "display_name": "Python 3 (ipykernel)",
      "language": "python",
      "name": "python3"
    },
    "language_info": {
      "codemirror_mode": {
        "name": "ipython",
        "version": 3
      },
      "file_extension": ".py",
      "mimetype": "text/x-python",
      "name": "python",
      "nbconvert_exporter": "python",
      "pygments_lexer": "ipython3",
      "version": "3.11.4"
    },
    "colab": {
      "provenance": []
    }
  },
  "nbformat": 4,
  "nbformat_minor": 5
}