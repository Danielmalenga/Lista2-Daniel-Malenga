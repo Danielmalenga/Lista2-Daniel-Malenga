{
 "cells": [
  {
   "cell_type": "markdown",
   "id": "ec7d9b2b",
   "metadata": {},
   "source": [
    " 1. Suponha que haja 40 bolas em um chapéu, das quais 10 são vermelhas, 10 são azuis, \n",
    "10 são amarelas e 10 são roxas. Qual é a probabilidade de obter duas bolas azuis e \n",
    "duas roxas ao tirar 10 bolas aleatoriamente do chapéu? O que muda no resultado caso \n",
    "a bola seja retirada e não reposta.\n"
   ]
  },
  {
   "cell_type": "code",
   "execution_count": 27,
   "id": "51df7600",
   "metadata": {},
   "outputs": [
    {
     "name": "stdout",
     "output_type": "stream",
     "text": [
      "O valor da probabilidade é: 2.0229 %\n"
     ]
    }
   ],
   "source": [
    "import numpy as np\n",
    "import matplotlib.pyplot as plt\n",
    "\n",
    "N = 1000000 #número de amostras\n",
    "\n",
    "#variavel aleatoria\n",
    "x = np.random.uniform(0, 1, N) \n",
    "\n",
    "B_vermelha = 10\n",
    "B_azul = 10\n",
    "B_roxa = 10\n",
    "B_amarela = 10\n",
    "\n",
    "\n",
    "cont_01 = 0\n",
    "cont_02 = 0\n",
    "cont_03 = 0\n",
    "cont_04 = 0\n",
    "\n",
    "\n",
    "quant = 0\n",
    "\n",
    "for _ in range(N):\n",
    "        x = np.random.uniform(0, 1, 10)\n",
    "        if (B_vermelha + B_azul + B_roxa + B_amarela) <= 0:\n",
    "            \n",
    "                B_vermelha = 10\n",
    "                B_azul = 10\n",
    "                B_roxa = 10\n",
    "                B_amarela = 10\n",
    "               \n",
    "        for val in x:\n",
    "         prob_azul = B_azul / (B_vermelha + B_azul + B_roxa + B_amarela)\n",
    "        \n",
    "         prob_amarela = B_amarela / (B_vermelha + B_azul + B_roxa + B_amarela)\n",
    "            \n",
    "         prob_roxa = B_roxa / (B_vermelha + B_azul + B_roxa + B_amarela)\n",
    "        \n",
    "         prob_vermelha = B_vermelha / (B_vermelha + B_azul + B_roxa + B_amarela)\n",
    "            \n",
    "\n",
    "        if val <= prob_azul:\n",
    "            B_azul -= 1\n",
    "\n",
    "        elif val <= (prob_azul + prob_amarela):\n",
    "            B_amarela -= 1\n",
    "\n",
    "        elif val <= (prob_azul + prob_amarela + prob_vermelha):\n",
    "            B_vermelha -= 1\n",
    "\n",
    "        elif val <= (prob_azul + prob_amarela + prob_vermelha + prob_roxa):\n",
    "            B_roxa -= 1\n",
    "\n",
    "        if  B_azul == 2 and B_roxa == 2:\n",
    "          quant += 1\n",
    "\n",
    "prob = (quant / N) * 100  # Cálculo da probabilidade\n",
    "print(\"O valor da probabilidade é:\", prob, \"%\")\n",
    "\n",
    "\n"
   ]
  },
  {
   "cell_type": "code",
   "execution_count": 39,
   "id": "5ec8b509",
   "metadata": {},
   "outputs": [
    {
     "name": "stdout",
     "output_type": "stream",
     "text": [
      " O valor da probabilidade é :  0.7716999999999999 %\n"
     ]
    }
   ],
   "source": [
    "import numpy as np\n",
    "import matplotlib.pyplot as plt\n",
    "\n",
    "N = 1000000 #número de amostras\n",
    "\n",
    "#variavel aleatoria\n",
    "x = np.random.uniform(0, 1, N) \n",
    "\n",
    "cont_01 = 0\n",
    "cont_02 = 0\n",
    "cont_03 = 0\n",
    "cont_04 = 0\n",
    "\n",
    "quant = 0\n",
    "\n",
    "for val in x:\n",
    "\n",
    "    if val <= 0.25: # Bola Vermelha \n",
    "        cont_01 += 1\n",
    "\n",
    "    elif val <= 0.5:  # Bola Azul\n",
    "        cont_02 += 1\n",
    "\n",
    "    elif val <= 0.75:  # Bola Roxa\n",
    "        cont_03 += 1\n",
    "\n",
    "    elif val <= 1:  # Bola Amarela\n",
    "        cont_04 += 1\n",
    "\n",
    "    cont_00 = cont_01 + cont_02 + cont_03 + cont_04\n",
    "\n",
    "    if cont_00 == 10:\n",
    "        if cont_01 == 2 and cont_04 == 2:\n",
    "\n",
    "            quant += 1\n",
    "\n",
    "            cont_01 = 0\n",
    "            cont_02 = 0\n",
    "            cont_03 = 0\n",
    "            cont_04 = 0\n",
    "        else:            # Resetar para reposição \n",
    "            cont_01 = 0\n",
    "            cont_02 = 0\n",
    "            cont_03 = 0\n",
    "            cont_04 = 0\n",
    "\n",
    "prob = (quant / N) * 100  # Cálculo da Probabilidade\n",
    "print(\" O valor da probabilidade é : \", prob , \"%\")"
   ]
  },
  {
   "cell_type": "code",
   "execution_count": null,
   "id": "d545a38e",
   "metadata": {},
   "outputs": [],
   "source": []
  },
  {
   "cell_type": "code",
   "execution_count": null,
   "id": "55440f23",
   "metadata": {},
   "outputs": [],
   "source": []
  }
 ],
 "metadata": {
  "kernelspec": {
   "display_name": "Python 3 (ipykernel)",
   "language": "python",
   "name": "python3"
  },
  "language_info": {
   "codemirror_mode": {
    "name": "ipython",
    "version": 3
   },
   "file_extension": ".py",
   "mimetype": "text/x-python",
   "name": "python",
   "nbconvert_exporter": "python",
   "pygments_lexer": "ipython3",
   "version": "3.11.4"
  }
 },
 "nbformat": 4,
 "nbformat_minor": 5
}
