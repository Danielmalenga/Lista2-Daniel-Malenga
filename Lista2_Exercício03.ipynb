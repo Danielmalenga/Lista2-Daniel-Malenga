{
  "cells": [
    {
      "cell_type": "markdown",
      "id": "5c8704bc",
      "metadata": {
        "id": "5c8704bc"
      },
      "source": [
        "3) Você paga 1 real e pode lançar quatro dados. Se a soma dos olhos nos dados for\n",
        "inferior a 9, recebe de volta r reais, caso contrário perde o investimento de 1 reais.\n",
        "Suponha que r = 10. Você vai, então, a longo prazo, ganhar ou perder dinheiro ao jogar\n",
        "este jogo?"
      ]
    },
    {
      "cell_type": "code",
      "execution_count": 2,
      "id": "8f262a4b",
      "metadata": {
        "id": "8f262a4b",
        "outputId": "0e63bbfa-52ae-4b17-8bd9-d2b0a6c631aa",
        "colab": {
          "base_uri": "https://localhost:8080/"
        }
      },
      "outputs": [
        {
          "output_type": "stream",
          "name": "stdout",
          "text": [
            "A probabilidade de Ganhar é de: 0.0547\n",
            "A probabilidade de Perder é de: 0.9453\n"
          ]
        }
      ],
      "source": [
        "import numpy as np\n",
        "\n",
        "import random\n",
        "\n",
        "N = 100000\n",
        "\n",
        "# Gera os números aleatórios\n",
        "dado_01 = np.random.randint(1, 7, N)\n",
        "dado_02 = np.random.randint(1, 7, N)\n",
        "dado_03 = np.random.randint(1, 7, N)\n",
        "dado_04 = np.random.randint(1, 7, N)\n",
        "\n",
        "#valor em 10 reais em caixa\n",
        "r = 10\n",
        "#valor  da aposta\n",
        "aposta = 1\n",
        "#valor  da soma das faces de dados inferior a 9\n",
        "soma_01 = 0\n",
        "#valor  da soma das faces de dados superior a 9\n",
        "soma_02 = 0\n",
        "#valor inicial em caixa\n",
        "caixa = 0\n",
        "\n",
        "\n",
        "for j in range(0, N):\n",
        "\n",
        "\n",
        "    cont_00 = dado_01[j] + dado_02[j] + dado_03[j] + dado_04[j]\n",
        "     # Incrementa a soma com valor menor a 9\n",
        "    if (cont_00 < 9):\n",
        "                   soma_01 = soma_01 + 1\n",
        "    # Incrementa a soma com valor maior ou igual a 9\n",
        "    if (cont_00 >= 9):\n",
        "                   soma_02 = soma_02 + 1\n",
        "\n",
        "#cálculo da probabilidade de ganhar ou perder\n",
        "Prob_ganhar = soma_01/N\n",
        "Prob_perder = soma_02/N\n",
        "\n",
        "print(\"A probabilidade de Ganhar é de:\",Prob_ganhar)\n",
        "\n",
        "print(\"A probabilidade de Perder é de:\",Prob_perder)\n",
        "\n",
        "\n",
        "\n",
        ""
      ]
    },
    {
      "cell_type": "code",
      "execution_count": null,
      "id": "61ca168a",
      "metadata": {
        "id": "61ca168a"
      },
      "outputs": [],
      "source": []
    }
  ],
  "metadata": {
    "kernelspec": {
      "display_name": "Python 3 (ipykernel)",
      "language": "python",
      "name": "python3"
    },
    "language_info": {
      "codemirror_mode": {
        "name": "ipython",
        "version": 3
      },
      "file_extension": ".py",
      "mimetype": "text/x-python",
      "name": "python",
      "nbconvert_exporter": "python",
      "pygments_lexer": "ipython3",
      "version": "3.11.4"
    },
    "colab": {
      "provenance": []
    }
  },
  "nbformat": 4,
  "nbformat_minor": 5
}